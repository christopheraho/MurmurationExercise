{
 "cells": [
  {
   "cell_type": "markdown",
   "metadata": {},
   "source": [
    "# Murmuration Hiring Exercise\n",
    "\n",
    "## 1) Create a new table and load in the data."
   ]
  },
  {
   "cell_type": "code",
   "execution_count": 21,
   "metadata": {},
   "outputs": [],
   "source": [
    "import csv\n",
    "import psycopg2\n",
    "conn = psycopg2.connect(host=\"localhost\", dbname=\"postgres\", user=\"postgres\", password=\"secret123\")\n",
    "cur = conn.cursor()\n",
    "cur.execute(\"\"\"\n",
    "    CREATE TABLE voters(\n",
    "    vb_tsmart_first_name varchar,\n",
    "    vb_voterbase_gender varchar,\n",
    "    vb_tsmart_state varchar,\n",
    "    vb_voterbase_db varchar,\n",
    "    vb_firsttimeseen_voterid varchar,\n",
    "    vb_voterbase_voter_score varchar,\n",
    "    vhsyn_vf_g2016_synthetic varchar)\n",
    "\"\"\")\n",
    "with open('SQL_exploration_sample_data.csv', 'r') as f:\n",
    "    reader = csv.reader(f)\n",
    "    next(reader) # Skip the header row.\n",
    "    for row in reader:\n",
    "        cur.execute(\n",
    "        \"INSERT INTO voters VALUES (%s, %s, %s, %s, %s, %s, %s)\",\n",
    "        row\n",
    "    )\n",
    "conn.commit()"
   ]
  },
  {
   "cell_type": "markdown",
   "metadata": {},
   "source": [
    "## 2) Display the first 10 rows."
   ]
  },
  {
   "cell_type": "code",
   "execution_count": 22,
   "metadata": {},
   "outputs": [
    {
     "data": {
      "text/plain": [
       "[('DONALD', 'Male', 'VT', '19620101', '20170531', 'Never Voted', 'N'),\n",
       " ('SHALLI', 'Female', 'OK', '19601216', '20160325', 'Infrequent Voter', 'E'),\n",
       " ('RASHAD', 'Male', 'FL', '19960925', '20140116', 'Never Voted', 'N'),\n",
       " ('PATRICK', 'Male', 'PA', '19951003', '20140114', 'Infrequent Voter', 'A'),\n",
       " ('JESUS', 'Male', 'DE', '19571201', '20161129', 'Super Voter', 'Y'),\n",
       " ('ALYSSA', 'Female', 'NC', '19970101', '20160708', 'Infrequent Voter', 'A'),\n",
       " ('MARJORIE', 'Female', 'CA', '19930823', '20161130', 'Infrequent Voter', 'A'),\n",
       " ('ANGELA', 'Female', 'MA', '19570803', '20140826', 'Never Voted', 'N'),\n",
       " ('CLAIRE', 'Female', 'OK', '19691001', '20160325', 'Infrequent Voter', 'Y'),\n",
       " ('JESSICA', 'Female', 'VA', '19950316', '20141030', 'Never Voted', 'N')]"
      ]
     },
     "execution_count": 22,
     "metadata": {},
     "output_type": "execute_result"
    }
   ],
   "source": [
    "cur.execute(\"\"\"SELECT * FROM voters\n",
    "    LIMIT 10\"\"\")\n",
    "cur.fetchall()"
   ]
  },
  {
   "cell_type": "markdown",
   "metadata": {},
   "source": [
    "## 3) Summarize the total record count by state."
   ]
  },
  {
   "cell_type": "code",
   "execution_count": 30,
   "metadata": {
    "scrolled": true
   },
   "outputs": [
    {
     "data": {
      "text/plain": [
       "[('CA', 1533),\n",
       " ('TX', 764),\n",
       " ('FL', 582),\n",
       " ('WI', 564),\n",
       " ('NY', 481),\n",
       " ('PA', 392),\n",
       " ('IL', 360),\n",
       " ('OH', 358),\n",
       " ('GA', 327),\n",
       " ('NC', 296),\n",
       " ('IN', 247),\n",
       " ('AZ', 245),\n",
       " ('NJ', 224),\n",
       " ('MI', 223),\n",
       " ('WA', 219),\n",
       " ('MA', 210),\n",
       " ('VA', 195),\n",
       " ('TN', 193),\n",
       " ('AL', 164),\n",
       " ('CO', 159),\n",
       " ('MD', 153),\n",
       " ('MO', 152),\n",
       " ('OK', 133),\n",
       " ('KY', 131),\n",
       " ('LA', 130),\n",
       " ('MN', 129),\n",
       " ('SC', 129),\n",
       " ('NV', 125),\n",
       " ('OR', 110),\n",
       " ('CT', 110),\n",
       " ('AR', 100),\n",
       " ('UT', 84),\n",
       " ('IA', 74),\n",
       " ('KS', 67),\n",
       " ('MS', 65),\n",
       " ('NH', 60),\n",
       " ('NE', 53),\n",
       " ('ME', 48),\n",
       " ('WV', 47),\n",
       " ('ID', 45),\n",
       " ('NM', 41),\n",
       " ('DC', 37),\n",
       " ('DE', 37),\n",
       " ('RI', 35),\n",
       " ('MT', 33),\n",
       " ('HI', 31),\n",
       " ('SD', 29),\n",
       " ('WY', 22),\n",
       " ('ND', 20),\n",
       " ('AK', 14),\n",
       " ('VT', 14),\n",
       " ('PR', 3),\n",
       " ('(null)', 1),\n",
       " ('AP', 1),\n",
       " ('AE', 1)]"
      ]
     },
     "execution_count": 30,
     "metadata": {},
     "output_type": "execute_result"
    }
   ],
   "source": [
    "cur.execute(\"\"\"SELECT vb_tsmart_state, count(vb_tsmart_state) FROM voters\n",
    "    GROUP BY vb_tsmart_state\n",
    "    ORDER BY count(vb_tsmart_state) DESC\n",
    "    \"\"\")\n",
    "cur.fetchall()"
   ]
  },
  {
   "cell_type": "markdown",
   "metadata": {},
   "source": [
    "## 4) Find the average age of people by state. Show results alphabetically by state, A 🡪 Z."
   ]
  },
  {
   "cell_type": "code",
   "execution_count": 37,
   "metadata": {},
   "outputs": [],
   "source": [
    "# Change '(null)' values to NULL values\n",
    "cur.execute(\"\"\"Update voters\n",
    "    SET vb_voterbase_db = NULL\n",
    "    WHERE vb_voterbase_db = 'null'\n",
    "    \"\"\")\n",
    "\n",
    "# Change vb_voterbase_db values to date format\n",
    "cur.execute(\"\"\"alter table voters \n",
    "  alter vb_voterbase_db type date using(vb_voterbase_db::date);\"\"\")"
   ]
  },
  {
   "cell_type": "code",
   "execution_count": 161,
   "metadata": {
    "scrolled": true
   },
   "outputs": [
    {
     "data": {
      "text/plain": [
       "[('(null)', None),\n",
       " ('AE', 28.0),\n",
       " ('AK', None),\n",
       " ('AL', 41.670731707317074),\n",
       " ('AP', 24.0),\n",
       " ('AR', 40.01),\n",
       " ('AZ', 45.68163265306122),\n",
       " ('CA', 45.016971279373365),\n",
       " ('CO', 39.874213836477985),\n",
       " ('CT', 38.45454545454545),\n",
       " ('DC', 36.666666666666664),\n",
       " ('DE', 42.2972972972973),\n",
       " ('FL', 44.08605851979346),\n",
       " ('GA', 39.34461538461539),\n",
       " ('HI', 55.54545454545455),\n",
       " ('IA', 34.810810810810814),\n",
       " ('ID', 48.266666666666666),\n",
       " ('IL', 39.30362116991643),\n",
       " ('IN', 41.716599190283404),\n",
       " ('KS', 43.71641791044776),\n",
       " ('KY', 42.55725190839695),\n",
       " ('LA', 38.53846153846154),\n",
       " ('MA', 41.20952380952381),\n",
       " ('MD', 37.01960784313726),\n",
       " ('ME', 42.0625),\n",
       " ('MI', 40.82062780269058),\n",
       " ('MN', 39.8515625),\n",
       " ('MO', 39.63576158940398),\n",
       " ('MS', 50.03333333333333),\n",
       " ('MT', 47.121212121212125),\n",
       " ('NC', 40.95608108108108),\n",
       " ('ND', 54.25),\n",
       " ('NE', 38.0),\n",
       " ('NH', 41.57142857142857),\n",
       " ('NJ', 36.89732142857143),\n",
       " ('NM', 39.9),\n",
       " ('NV', 44.648),\n",
       " ('NY', 40.46777546777547),\n",
       " ('OH', 39.13966480446928),\n",
       " ('OK', 42.796992481203006),\n",
       " ('OR', 42.50909090909091),\n",
       " ('PA', 41.39795918367347),\n",
       " ('PR', 75.33333333333333),\n",
       " ('RI', 35.714285714285715),\n",
       " ('SC', 42.21705426356589),\n",
       " ('SD', 40.857142857142854),\n",
       " ('TN', 44.66839378238342),\n",
       " ('TX', 39.62303664921466),\n",
       " ('UT', 36.535714285714285),\n",
       " ('VA', 39.83076923076923),\n",
       " ('VT', 46.0),\n",
       " ('WA', 39.89497716894977),\n",
       " ('WI', 65.33333333333333),\n",
       " ('WV', 43.0),\n",
       " ('WY', 47.7)]"
      ]
     },
     "execution_count": 161,
     "metadata": {},
     "output_type": "execute_result"
    }
   ],
   "source": [
    "#SQL query to find the average age by state\n",
    "cur.execute(\"\"\"SELECT vb_tsmart_state, AVG(EXTRACT(year FROM age(current_date,vb_voterbase_db))) as age FROM voters\n",
    "    GROUP BY vb_tsmart_state\n",
    "    ORDER BY vb_tsmart_state ASC\"\"\")\n",
    "cur.fetchall()"
   ]
  },
  {
   "cell_type": "markdown",
   "metadata": {},
   "source": [
    "## 5)  Visualize total record count for the bottom 10 states."
   ]
  },
  {
   "cell_type": "code",
   "execution_count": 65,
   "metadata": {},
   "outputs": [],
   "source": [
    "import pandas as pd\n",
    "import matplotlib.pyplot as plt\n",
    "import numpy as np\n",
    "\n",
    "# A function that takes in a PostgreSQL query and outputs a pandas database \n",
    "def create_pandas_table(sql_query, database = conn):\n",
    "    table = pd.read_sql_query(sql_query, database)\n",
    "    return table"
   ]
  },
  {
   "cell_type": "code",
   "execution_count": 164,
   "metadata": {},
   "outputs": [],
   "source": [
    "# Create a pandas database from the data\n",
    "voters_df = create_pandas_table(\"SELECT * FROM voters\")"
   ]
  },
  {
   "cell_type": "code",
   "execution_count": 166,
   "metadata": {
    "scrolled": true
   },
   "outputs": [],
   "source": [
    "# Create a dictionary with states as keys and record counts as values\n",
    "count_by_state = dict(voters_df[\"vb_tsmart_state\"].value_counts())\n",
    "\n",
    "# Remove entries where the state is '(null)'\n",
    "del count_by_state['(null)']"
   ]
  },
  {
   "cell_type": "code",
   "execution_count": 212,
   "metadata": {},
   "outputs": [
    {
     "data": {
      "image/png": "[encoded data removed]",
      "text/plain": [
       "<Figure size 1200x800 with 1 Axes>"
      ]
     },
     "metadata": {},
     "output_type": "display_data"
    }
   ],
   "source": [
    "# Create a bar graph\n",
    "from operator import itemgetter\n",
    "\n",
    "#Create a new dictionary with the record counts of the ten bottom states\n",
    "bottom_ten = dict(sorted(count_by_state.items(), key = itemgetter(1))[:10])\n",
    "\n",
    "#Create a horizontal bar chart\n",
    "states = list(bottom_ten.keys())\n",
    "counts = list(bottom_ten.values())\n",
    "\n",
    "x = np.arange(len(states))  # the states\n",
    "width = .7  # the width of the bars\n",
    "\n",
    "fig, ax = plt.subplots(figsize=(12,8), dpi= 100, facecolor='w', edgecolor='k')\n",
    "rects1 = ax.bar(x, counts, width, label='State')\n",
    "\n",
    "# Add some text for labels, title and custom x-axis tick labels, etc.\n",
    "ax.set_ylabel('Record Counts')\n",
    "ax.set_xlabel('State')\n",
    "ax.set_title('Record Counts of Bottom Ten States')\n",
    "ax.set_xticks(x)\n",
    "ax.set_xticklabels(states)\n",
    "\n",
    "\n",
    "def autolabel(rects):\n",
    "    \"\"\"Attach a text label above each bar in *rects*, displaying its height.\"\"\"\n",
    "    for rect in rects:\n",
    "        height = rect.get_height()\n",
    "        ax.annotate('{}'.format(height),\n",
    "                    xy=(rect.get_x() + rect.get_width() / 2, height),\n",
    "                    xytext=(0, 3),  # 3 points vertical offset\n",
    "                    textcoords=\"offset points\",\n",
    "                    ha='center', va='bottom')\n",
    "\n",
    "\n",
    "autolabel(rects1)\n",
    "\n",
    "fig.tight_layout()\n",
    "\n",
    "plt.show()"
   ]
  },
  {
   "cell_type": "markdown",
   "metadata": {},
   "source": [
    "## Visualize the average age of people within the top 10 states."
   ]
  },
  {
   "cell_type": "code",
   "execution_count": 190,
   "metadata": {},
   "outputs": [],
   "source": [
    "cur.execute(\"\"\"SELECT vb_tsmart_state, AVG(EXTRACT(year FROM age(current_date,vb_voterbase_db))) as age FROM voters\n",
    "    GROUP BY vb_tsmart_state\n",
    "    ORDER BY vb_tsmart_state ASC\"\"\")\n",
    "age_by_state_list = cur.fetchall()"
   ]
  },
  {
   "cell_type": "code",
   "execution_count": 202,
   "metadata": {},
   "outputs": [],
   "source": [
    "# Create a dictionary with states as keys and average age as values\n",
    "age_by_state = dict(age_by_state_list)\n",
    "del age_by_state['(null)']\n",
    "age_by_state_updated = {k: v for k, v in age_by_state.items() if v is not None}"
   ]
  },
  {
   "cell_type": "code",
   "execution_count": 211,
   "metadata": {},
   "outputs": [],
   "source": [
    "# Create a new dictionary with the average age of only the top ten states\n",
    "top_ten = dict(sorted(age_by_state_updated.items(), key = itemgetter(1), reverse=True)[:10])\n",
    "for k, v in top_ten.items():\n",
    "    top_ten[k] = round(int(v))"
   ]
  },
  {
   "cell_type": "code",
   "execution_count": 210,
   "metadata": {},
   "outputs": [
    {
     "data": {
      "text/plain": [
       "{'PR': 75,\n",
       " 'WI': 65,\n",
       " 'HI': 55,\n",
       " 'ND': 54,\n",
       " 'MS': 50,\n",
       " 'ID': 48,\n",
       " 'WY': 47,\n",
       " 'MT': 47,\n",
       " 'VT': 46,\n",
       " 'AZ': 45}"
      ]
     },
     "execution_count": 210,
     "metadata": {},
     "output_type": "execute_result"
    }
   ],
   "source": [
    "# Here are the top ten oldest states\n",
    "top_ten"
   ]
  },
  {
   "cell_type": "code",
   "execution_count": 277,
   "metadata": {},
   "outputs": [
    {
     "data": {
      "image/png": "[encoded data removed]",
      "text/plain": [
       "<Figure size 1200x880 with 1 Axes>"
      ]
     },
     "metadata": {
      "needs_background": "light"
     },
     "output_type": "display_data"
    }
   ],
   "source": [
    "# Create a stem plot showing average age of each state with a midline being the average of the 10 states\n",
    "from matplotlib.pyplot import figure\n",
    "\n",
    "figure(figsize=(15, 11), dpi=80)\n",
    "\n",
    "fig = plt.stem(\n",
    "    x, y, linefmt='blue', markerfmt='D', bottom=53.2, use_line_collection=True)  #draws midline at the average age of the ten states\n",
    "markerline.set_markerfacecolor('none')\n",
    "\n",
    "plt.title('Average Age of Top Ten States')\n",
    "plt.xlabel('States')\n",
    "plt.ylabel('Age')\n",
    "plt.text(7,54,'Average age of all ten states')\n",
    "plt.text(-.4,53.2,'53.2')\n",
    "plt.text(-.25,75,'75')\n",
    "plt.text(.75,65,'65')\n",
    "plt.text(1.75,55,'55')\n",
    "plt.text(2.75,54,'54')\n",
    "plt.text(3.75,50,'50')\n",
    "plt.text(4.75,48,'48')\n",
    "plt.text(5.75,47,'47')\n",
    "plt.text(6.75,47,'47')\n",
    "plt.text(7.75,46,'46')\n",
    "plt.text(8.75,45,'45')\n",
    "\n",
    "\n",
    "plt.show()"
   ]
  },
  {
   "cell_type": "markdown",
   "metadata": {},
   "source": [
    "## What is the most common first name in each state?"
   ]
  },
  {
   "cell_type": "code",
   "execution_count": 263,
   "metadata": {
    "scrolled": true
   },
   "outputs": [
    {
     "data": {
      "text/plain": [
       "[('(null)', 'SUSAN'),\n",
       " ('AE', 'STEPHANIE'),\n",
       " ('AK', 'CIERRA'),\n",
       " ('AL', 'WILLIAM'),\n",
       " ('AP', 'CAROLINE'),\n",
       " ('AR', 'RACHEL'),\n",
       " ('AZ', 'MICHAEL'),\n",
       " ('CA', 'MICHAEL'),\n",
       " ('CO', 'MICHAEL'),\n",
       " ('CT', 'MICHAEL'),\n",
       " ('DC', 'DANIEL'),\n",
       " ('DE', 'GARY'),\n",
       " ('FL', 'MICHAEL'),\n",
       " ('GA', 'MICHAEL'),\n",
       " ('HI', 'JUSSI'),\n",
       " ('IA', 'LOGAN'),\n",
       " ('ID', 'DAVID'),\n",
       " ('IL', 'CHRISTOPHER'),\n",
       " ('IN', 'MICHAEL'),\n",
       " ('KS', 'JENNIFER'),\n",
       " ('KY', 'ROBERT'),\n",
       " ('LA', 'DANIEL'),\n",
       " ('MA', 'MARIA'),\n",
       " ('MD', 'MICHAEL'),\n",
       " ('ME', 'JOHN'),\n",
       " ('MI', 'MICHAEL'),\n",
       " ('MN', 'AMY'),\n",
       " ('MO', 'MICHAEL'),\n",
       " ('MS', 'KEYERICA'),\n",
       " ('MT', 'STEVEN'),\n",
       " ('NC', 'ROBERT'),\n",
       " ('ND', 'PARKER'),\n",
       " ('NE', 'JOSHUA'),\n",
       " ('NH', 'TYLER'),\n",
       " ('NJ', 'ROBERT'),\n",
       " ('NM', 'HECTOR'),\n",
       " ('NV', 'MICHAEL'),\n",
       " ('NY', 'JOSEPH'),\n",
       " ('OH', 'MICHAEL'),\n",
       " ('OK', 'KATHRYN'),\n",
       " ('OR', 'DANIEL'),\n",
       " ('PA', 'JOSEPH'),\n",
       " ('PR', 'JUAN'),\n",
       " ('RI', 'ALEXANDRA'),\n",
       " ('SC', 'JAMES'),\n",
       " ('SD', 'JAMES'),\n",
       " ('TN', 'JOHN'),\n",
       " ('TX', 'MICHAEL'),\n",
       " ('UT', 'KEVIN'),\n",
       " ('VA', 'MATTHEW'),\n",
       " ('VT', 'NATHAN'),\n",
       " ('WA', 'MICHAEL'),\n",
       " ('WI', 'ROBERT'),\n",
       " ('WV', 'MICHAEL'),\n",
       " ('WY', 'MICHAEL')]"
      ]
     },
     "execution_count": 263,
     "metadata": {},
     "output_type": "execute_result"
    }
   ],
   "source": [
    "cur.execute(\"\"\"\n",
    "SELECT vb_tsmart_state, vb_tsmart_first_name\n",
    "    from (select vb_tsmart_state, vb_tsmart_first_name, count(*) as cnt,\n",
    "    row_number() over (partition by vb_tsmart_state order by count(*) desc) as seqnum\n",
    "    from voters\n",
    "    group by vb_tsmart_state, vb_tsmart_first_name\n",
    "    ) yn\n",
    "where seqnum = 1;\"\"\")\n",
    "cur.fetchall()"
   ]
  }
 ],
 "metadata": {
  "kernelspec": {
   "display_name": "Python 3",
   "language": "python",
   "name": "python3"
  },
  "language_info": {
   "codemirror_mode": {
    "name": "ipython",
    "version": 3
   },
   "file_extension": ".py",
   "mimetype": "text/x-python",
   "name": "python",
   "nbconvert_exporter": "python",
   "pygments_lexer": "ipython3",
   "version": "3.7.6"
  }
 },
 "nbformat": 4,
 "nbformat_minor": 4
}
